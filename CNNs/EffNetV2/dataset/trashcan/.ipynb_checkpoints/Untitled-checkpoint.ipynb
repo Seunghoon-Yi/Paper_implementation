{
 "cells": [
  {
   "cell_type": "code",
   "execution_count": null,
   "id": "075de4b0",
   "metadata": {},
   "outputs": [],
   "source": [
    "!ls"
   ]
  }
 ],
 "metadata": {
  "kernelspec": {
   "display_name": "23_MLVU",
   "language": "python",
   "name": "23_mlvu"
  }
 },
 "nbformat": 4,
 "nbformat_minor": 5
}
